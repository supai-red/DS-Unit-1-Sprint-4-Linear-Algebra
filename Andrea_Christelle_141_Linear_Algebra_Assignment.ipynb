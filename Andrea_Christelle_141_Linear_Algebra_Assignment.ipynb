{
  "nbformat": 4,
  "nbformat_minor": 0,
  "metadata": {
    "colab": {
      "name": "Andrea_Christelle_141_Linear Algebra Assignment.ipynb",
      "version": "0.3.2",
      "provenance": [],
      "collapsed_sections": [],
      "include_colab_link": true
    },
    "kernelspec": {
      "name": "python3",
      "display_name": "Python 3"
    }
  },
  "cells": [
    {
      "cell_type": "markdown",
      "metadata": {
        "id": "view-in-github",
        "colab_type": "text"
      },
      "source": [
        "<a href=\"https://colab.research.google.com/github/supai-red/DS-Unit-1-Sprint-4-Linear-Algebra/blob/master/Andrea_Christelle_141_Linear_Algebra_Assignment.ipynb\" target=\"_parent\"><img src=\"https://colab.research.google.com/assets/colab-badge.svg\" alt=\"Open In Colab\"/></a>"
      ]
    },
    {
      "cell_type": "markdown",
      "metadata": {
        "id": "yXA3GwWhY9KL",
        "colab_type": "text"
      },
      "source": [
        "# Part 1 - Scalars and Vectors\n",
        "\n",
        "For the questions below it is not sufficient to simply provide answer to the questions, but you must solve the problems and show your work using python (the NumPy library will help a lot!) Translate the vectors and matrices into their appropriate python  representations and use numpy or functions that you write yourself to demonstrate the result or property. "
      ]
    },
    {
      "cell_type": "markdown",
      "metadata": {
        "id": "oNOTv43_Zi9L",
        "colab_type": "text"
      },
      "source": [
        "## 1.1 Create a two-dimensional vector and plot it on a graph"
      ]
    },
    {
      "cell_type": "code",
      "metadata": {
        "id": "XNqjzQzrkVG7",
        "colab_type": "code",
        "colab": {}
      },
      "source": [
        "#Import libraries\n",
        "import math\n",
        "import matplotlib.pyplot as plt\n",
        "import numpy as np"
      ],
      "execution_count": 0,
      "outputs": []
    },
    {
      "cell_type": "code",
      "metadata": {
        "id": "6v-B8aSP6RIz",
        "colab_type": "code",
        "colab": {}
      },
      "source": [
        "#start with a simple vector\n",
        "a_vector = [.5, .5]\n",
        "b_vector = [2, 3]"
      ],
      "execution_count": 0,
      "outputs": []
    },
    {
      "cell_type": "code",
      "metadata": {
        "id": "YiUZ04dh7VT7",
        "colab_type": "code",
        "outputId": "e67b7ca3-1976-438b-a6d5-c826d87689a7",
        "colab": {
          "base_uri": "https://localhost:8080/",
          "height": 286
        }
      },
      "source": [
        "#plot the vector\n",
        "plt.arrow(0, 0, a_vector[0], a_vector[1])\n",
        "plt.arrow(.2, .4, b_vector[0], b_vector[1])\n",
        " "
      ],
      "execution_count": 22,
      "outputs": [
        {
          "output_type": "execute_result",
          "data": {
            "text/plain": [
              "<matplotlib.patches.FancyArrow at 0x7fabca4785f8>"
            ]
          },
          "metadata": {
            "tags": []
          },
          "execution_count": 22
        },
        {
          "output_type": "display_data",
          "data": {
            "image/png": "[encoded data removed]",
            "text/plain": [
              "<Figure size 432x288 with 1 Axes>"
            ]
          },
          "metadata": {
            "tags": []
          }
        }
      ]
    },
    {
      "cell_type": "markdown",
      "metadata": {
        "id": "HycJFr5V9Nsi",
        "colab_type": "text"
      },
      "source": [
        "##Adding features"
      ]
    },
    {
      "cell_type": "code",
      "metadata": {
        "id": "gQkdnxei9Q8R",
        "colab_type": "code",
        "colab": {}
      },
      "source": [
        "#start with a simple vector\n",
        "c_vector = [.8, .8]"
      ],
      "execution_count": 0,
      "outputs": []
    },
    {
      "cell_type": "code",
      "metadata": {
        "id": "3zQd3IBb9YNX",
        "colab_type": "code",
        "outputId": "adca862c-3701-48bc-f693-f3c849125e5b",
        "colab": {
          "base_uri": "https://localhost:8080/",
          "height": 286
        }
      },
      "source": [
        "#plot vector with features\n",
        "plt.arrow(0, 0, c_vector[0], c_vector[1], head_width = .05, head_length=.05, color = \"red\")\n",
        "plt. arrow (.1, .2, c_vector[0], c_vector[1])"
      ],
      "execution_count": 24,
      "outputs": [
        {
          "output_type": "execute_result",
          "data": {
            "text/plain": [
              "<matplotlib.patches.FancyArrow at 0x7fabc79bbfd0>"
            ]
          },
          "metadata": {
            "tags": []
          },
          "execution_count": 24
        },
        {
          "output_type": "display_data",
          "data": {
            "image/png": "[encoded data removed]",
            "text/plain": [
              "<Figure size 432x288 with 1 Axes>"
            ]
          },
          "metadata": {
            "tags": []
          }
        }
      ]
    },
    {
      "cell_type": "markdown",
      "metadata": {
        "id": "unKFT619lk3e",
        "colab_type": "text"
      },
      "source": [
        "## 1.2 Create a three-dimensional vecor and plot it on a graph"
      ]
    },
    {
      "cell_type": "code",
      "metadata": {
        "id": "atUEd3T6llKm",
        "colab_type": "code",
        "colab": {}
      },
      "source": [
        "#import libraries\n",
        "from mpl_toolkits.mplot3d import Axes3D\n",
        "import numpy as np"
      ],
      "execution_count": 0,
      "outputs": []
    },
    {
      "cell_type": "code",
      "metadata": {
        "id": "wkX_8anu_dZK",
        "colab_type": "code",
        "colab": {}
      },
      "source": [
        "#create vectors\n",
        "vector_1 = [.5, .5, .5]\n",
        "vector_2 = [.2, .1, 0]\n",
        "vector_3 = [.1, .3, .3]"
      ],
      "execution_count": 0,
      "outputs": []
    },
    {
      "cell_type": "code",
      "metadata": {
        "id": "_oYwB6Sn-liE",
        "colab_type": "code",
        "colab": {}
      },
      "source": [
        "#put vectors in NumPy array\n",
        "#not sure how we did this\n",
        "vectors = np.array([[0, 0, 0, .5, .5, .5], \n",
        "                    [0, 0, 0, .2, .1, .0],\n",
        "                    [0, 0, 0, .1, .3, .3]])"
      ],
      "execution_count": 0,
      "outputs": []
    },
    {
      "cell_type": "code",
      "metadata": {
        "id": "y_tzInaKADN-",
        "colab_type": "code",
        "outputId": "c128467f-a904-4981-9063-3301cd1e4bd9",
        "colab": {
          "base_uri": "https://localhost:8080/",
          "height": 248
        }
      },
      "source": [
        "#here the zip is essentially changing the shape of (reshaping) the vectors\n",
        "#not fully explained in this instance\n",
        "\n",
        "X, Y, Z, U, V, W = zip(*vectors)\n",
        "\n",
        "fig = plt.figure()\n",
        "ax = fig.add_subplot(111, projection='3d')\n",
        "ax.quiver(X, Y, Z, U, V, W, length=1)\n",
        "ax.set_xlim([0, 1])\n",
        "ax.set_ylim([0, 1])\n",
        "ax.set_zlim([0, 1])\n",
        "ax.set_xlabel('X')\n",
        "ax.set_ylabel('Y')\n",
        "ax.set_zlabel('Z')\n",
        "plt.show()"
      ],
      "execution_count": 28,
      "outputs": [
        {
          "output_type": "display_data",
          "data": {
            "image/png": "[encoded data removed]",
            "text/plain": [
              "<Figure size 432x288 with 1 Axes>"
            ]
          },
          "metadata": {
            "tags": []
          }
        }
      ]
    },
    {
      "cell_type": "markdown",
      "metadata": {
        "id": "b7qFxbKxZmI2",
        "colab_type": "text"
      },
      "source": [
        "## 1.3 Scale the vectors you created in 1.1 by $5$, $\\pi$, and $-e$ and plot all four vectors (original + 3 scaled vectors) on a graph. What do you notice about these vectors? "
      ]
    },
    {
      "cell_type": "code",
      "metadata": {
        "id": "ah6zMSLJdJwL",
        "colab_type": "code",
        "outputId": "4232c730-e91c-4c92-e9b8-ca7c7c0f1383",
        "colab": {
          "base_uri": "https://localhost:8080/",
          "height": 51
        }
      },
      "source": [
        "#get imports\n",
        "from math import e, pi\n",
        "print(e)\n",
        "print(pi)"
      ],
      "execution_count": 29,
      "outputs": [
        {
          "output_type": "stream",
          "text": [
            "2.718281828459045\n",
            "3.141592653589793\n"
          ],
          "name": "stdout"
        }
      ]
    },
    {
      "cell_type": "code",
      "metadata": {
        "id": "3qpwDlzXkVf5",
        "colab_type": "code",
        "colab": {}
      },
      "source": [
        "#Scaling from 1.1\n",
        "#scale by 5\n",
        "v_5 = np.multiply(5, c_vector)\n",
        "\n",
        "#scale by pi\n",
        "v_pi = np.multiply(3.141592653589793, c_vector)\n",
        "\n",
        "#scale by -e (Euler's Number)\n",
        "v_eu = np.multiply(-2.71828182845904, c_vector)\n"
      ],
      "execution_count": 0,
      "outputs": []
    },
    {
      "cell_type": "code",
      "metadata": {
        "id": "Y46itXBBCpMC",
        "colab_type": "code",
        "outputId": "f7eb9525-7e88-441e-c50e-68b5570b36de",
        "colab": {
          "base_uri": "https://localhost:8080/",
          "height": 286
        }
      },
      "source": [
        "#plot scaled vectors\n",
        "plt.arrow(0, 0, c_vector[0], c_vector[0], head_width = .05, head_length=.05, color = \"red\")\n",
        "plt.arrow(0,0, v_5[0], v_5[1],head_width=.05, head_length=0.05, color ='orange')\n",
        "plt.arrow(.4, .2, v_pi[0], v_pi[0], head_width=.05, head_length=.05, color ='blue')\n",
        "plt.arrow (.2, .4, v_eu[0], v_eu[0], head_width=.05, head_length=.05, color = 'purple')\n",
        "##Why don't I get arrows?\n",
        "## Need to change the size of graph\n",
        "##need to review all parameters # https://matplotlib.org/3.1.1/api/_as_gen/matplotlib.pyplot.arrow.html"
      ],
      "execution_count": 32,
      "outputs": [
        {
          "output_type": "execute_result",
          "data": {
            "text/plain": [
              "<matplotlib.patches.FancyArrow at 0x7fabc7799cf8>"
            ]
          },
          "metadata": {
            "tags": []
          },
          "execution_count": 32
        },
        {
          "output_type": "display_data",
          "data": {
            "image/png": "[encoded data removed]",
            "text/plain": [
              "<Figure size 432x288 with 1 Axes>"
            ]
          },
          "metadata": {
            "tags": []
          }
        }
      ]
    },
    {
      "cell_type": "markdown",
      "metadata": {
        "id": "wrgqa6sWimbH",
        "colab_type": "text"
      },
      "source": [
        "## 1.4 Graph vectors $\\vec{a}$ and $\\vec{b}$ and plot them on a graph\n",
        "\n",
        "\\begin{align}\n",
        "\\vec{a} = \\begin{bmatrix} 5 \\\\ 7 \\end{bmatrix}\n",
        "\\qquad\n",
        "\\vec{b} = \\begin{bmatrix} 3 \\\\4 \\end{bmatrix}\n",
        "\\end{align}"
      ]
    },
    {
      "cell_type": "code",
      "metadata": {
        "id": "I1BGXA_skV-b",
        "colab_type": "code",
        "outputId": "bb496396-8949-49f0-ce60-1ae5adb8a22a",
        "colab": {
          "base_uri": "https://localhost:8080/",
          "height": 68
        }
      },
      "source": [
        "#calculate the norm of a 2D vector\n",
        "#c = sqrt(a^2 + b^2)\n",
        "vector_norm_a = [5, 7]\n",
        "\n",
        "c = math.sqrt((5**2) + (7**2))\n",
        "print(c)\n",
        "\n",
        "c_2 = math.sqrt((3**2) + (4**2))\n",
        "##now write a function to calculate the norm of a vector\n",
        "\n",
        "#Vector a\n",
        "a = 5\n",
        "b = 7\n",
        "\n",
        "#Vector b\n",
        "c = 3\n",
        "d = 4\n",
        "\n",
        "def v_norm(a, b):\n",
        "#calculates the norm (lenghth) of a 2D vector\n",
        "\n",
        "  norm = math.sqrt((a**2) + (b**2))\n",
        "  print(\"The norm of vector [\" , a ,  b , \"] is\",  norm )\n",
        "\n",
        "# print (v_norm(a, b))\n",
        "# print (v_norm(c, d))\n",
        "\n",
        "v_norm(a, b)\n",
        "v_norm(c, d)"
      ],
      "execution_count": 33,
      "outputs": [
        {
          "output_type": "stream",
          "text": [
            "8.602325267042627\n",
            "The norm of vector [ 5 7 ] is 8.602325267042627\n",
            "The norm of vector [ 3 4 ] is 5.0\n"
          ],
          "name": "stdout"
        }
      ]
    },
    {
      "cell_type": "code",
      "metadata": {
        "id": "NmXcZrcScChG",
        "colab_type": "code",
        "outputId": "b4058861-28a2-411c-ce57-e2350e9ded4a",
        "colab": {
          "base_uri": "https://localhost:8080/",
          "height": 483
        }
      },
      "source": [
        "#plot vector norms on graph\n",
        "plt.xlim(0,10)\n",
        "plt.ylim(0, 10)\n",
        "\n",
        "plt.xlabel(\"X label\")\n",
        "\n",
        "#plotting norm of Vector a\n",
        "plt.arrow(0, 0, 8.6, 8.6, head_width=.2, head_length= .2, color= \"blue\")\n",
        "\n",
        "#plotting norm of Vector b\n",
        "plt.arrow (0, 0, 5, 5, head_width = .2, head_length= .2, color = \"black\")\n",
        "\n",
        "#plotting the difference of the norms from 1.5\n",
        "plt.arrow (0, 0, 3.6, 3.6, head_width = .2, head_length = .2, color = \"red\")\n",
        "plt.title(\"Multi Color Array\");\n",
        " "
      ],
      "execution_count": 36,
      "outputs": [
        {
          "output_type": "error",
          "ename": "TypeError",
          "evalue": "ignored",
          "traceback": [
            "\u001b[0;31m---------------------------------------------------------------------------\u001b[0m",
            "\u001b[0;31mTypeError\u001b[0m                                 Traceback (most recent call last)",
            "\u001b[0;32m<ipython-input-36-fb13b68a6f89>\u001b[0m in \u001b[0;36m<module>\u001b[0;34m()\u001b[0m\n\u001b[1;32m      2\u001b[0m \u001b[0mplt\u001b[0m\u001b[0;34m.\u001b[0m\u001b[0mylim\u001b[0m\u001b[0;34m(\u001b[0m\u001b[0;36m0\u001b[0m\u001b[0;34m,\u001b[0m \u001b[0;36m10\u001b[0m\u001b[0;34m)\u001b[0m\u001b[0;34m\u001b[0m\u001b[0;34m\u001b[0m\u001b[0m\n\u001b[1;32m      3\u001b[0m \u001b[0;34m\u001b[0m\u001b[0m\n\u001b[0;32m----> 4\u001b[0;31m \u001b[0mplt\u001b[0m\u001b[0;34m.\u001b[0m\u001b[0mxlabel\u001b[0m\u001b[0;34m(\u001b[0m\u001b[0;34m\"X label\"\u001b[0m\u001b[0;34m)\u001b[0m\u001b[0;34m\u001b[0m\u001b[0;34m\u001b[0m\u001b[0m\n\u001b[0m\u001b[1;32m      5\u001b[0m \u001b[0;34m\u001b[0m\u001b[0m\n\u001b[1;32m      6\u001b[0m \u001b[0;31m#plotting norm of Vector a\u001b[0m\u001b[0;34m\u001b[0m\u001b[0;34m\u001b[0m\u001b[0;34m\u001b[0m\u001b[0m\n",
            "\u001b[0;31mTypeError\u001b[0m: 'str' object is not callable"
          ]
        },
        {
          "output_type": "display_data",
          "data": {
            "image/png": "[encoded data removed]",
            "text/plain": [
              "<Figure size 432x288 with 1 Axes>"
            ]
          },
          "metadata": {
            "tags": []
          }
        }
      ]
    },
    {
      "cell_type": "code",
      "metadata": {
        "id": "L9ivQfvGcP7d",
        "colab_type": "code",
        "colab": {}
      },
      "source": [
        ""
      ],
      "execution_count": 0,
      "outputs": []
    },
    {
      "cell_type": "markdown",
      "metadata": {
        "id": "QN6RU_3gizpw",
        "colab_type": "text"
      },
      "source": [
        "## 1.5 find $\\vec{a} - \\vec{b}$ and plot the result on the same graph as $\\vec{a}$ and $\\vec{b}$. Is there a relationship between vectors $\\vec{a} \\thinspace, \\vec{b} \\thinspace \\text{and} \\thinspace \\vec{a-b}$"
      ]
    },
    {
      "cell_type": "code",
      "metadata": {
        "id": "68sWHIOPkXp5",
        "colab_type": "code",
        "outputId": "92eb823d-ddae-4e5a-f02c-c08d9ebaa3fe",
        "colab": {
          "base_uri": "https://localhost:8080/",
          "height": 34
        }
      },
      "source": [
        "dif = 8.6023 - 5\n",
        "print(dif)\n",
        "\n",
        "#now calculate\n",
        "#diff = math.sqrt((5**2 + (7**2)) - math.sqrt((3**2) - (4**2)) \n"
      ],
      "execution_count": 9,
      "outputs": [
        {
          "output_type": "stream",
          "text": [
            "3.6022999999999996\n"
          ],
          "name": "stdout"
        }
      ]
    },
    {
      "cell_type": "markdown",
      "metadata": {
        "id": "1ZPVuJAlehu_",
        "colab_type": "text"
      },
      "source": [
        "## 1.6 Find $c \\cdot d$\n",
        "\n",
        "\\begin{align}\n",
        "\\vec{c} = \\begin{bmatrix}7 & 22 & 4 & 16\\end{bmatrix}\n",
        "\\qquad\n",
        "\\vec{d} = \\begin{bmatrix}12 & 6 & 2 & 9\\end{bmatrix}\n",
        "\\end{align}\n"
      ]
    },
    {
      "cell_type": "code",
      "metadata": {
        "id": "2_cZQFCskYNr",
        "colab_type": "code",
        "outputId": "4f42d661-3600-4934-9f87-527bd921735a",
        "colab": {
          "base_uri": "https://localhost:8080/",
          "height": 34
        }
      },
      "source": [
        "#This is dot product\n",
        "dp = (7*12) + (22*6) + (4*2) + (16*9)\n",
        "print(dp)"
      ],
      "execution_count": 0,
      "outputs": [
        {
          "output_type": "stream",
          "text": [
            "368\n"
          ],
          "name": "stdout"
        }
      ]
    },
    {
      "cell_type": "markdown",
      "metadata": {
        "id": "cLm8yokpfg9B",
        "colab_type": "text"
      },
      "source": [
        "##  1.7 Find $e \\times f$\n",
        "\n",
        "\\begin{align}\n",
        "\\vec{e} = \\begin{bmatrix} 5 \\\\ 7 \\\\ 2 \\end{bmatrix}\n",
        "\\qquad\n",
        "\\vec{f} = \\begin{bmatrix} 3 \\\\4 \\\\ 6 \\end{bmatrix}\n",
        "\\end{align}"
      ]
    },
    {
      "cell_type": "code",
      "metadata": {
        "id": "ku-TdCKAkYs8",
        "colab_type": "code",
        "colab": {}
      },
      "source": [
        "#This is cross product\n",
        "#This creates a new vector\n",
        "\n",
        "# i j k\n",
        "  5 7 2\n",
        "  3 4 6\n",
        "  \n",
        "  (7 * 2)\n",
        "  \n",
        "  \n",
        "  #########come back to this."
      ],
      "execution_count": 0,
      "outputs": []
    },
    {
      "cell_type": "markdown",
      "metadata": {
        "id": "-TN8wO2-h53s",
        "colab_type": "text"
      },
      "source": [
        "## 1.8 Find $||\\vec{g}||$ and then find $||\\vec{h}||$. Which is longer?\n",
        "\n",
        "\\begin{align}\n",
        "\\vec{g} = \\begin{bmatrix} 1 \\\\ 1 \\\\ 1 \\\\ 8 \\end{bmatrix}\n",
        "\\qquad\n",
        "\\vec{h} = \\begin{bmatrix} 3 \\\\3 \\\\ 3 \\\\ 3 \\end{bmatrix}\n",
        "\\end{align}"
      ]
    },
    {
      "cell_type": "code",
      "metadata": {
        "id": "-5VKOMKBlgaA",
        "colab_type": "code",
        "outputId": "b85c8630-8a4b-4cc2-a593-b58fcc3338df",
        "colab": {
          "base_uri": "https://localhost:8080/",
          "height": 34
        }
      },
      "source": [
        "#Finding the norms of vector_g and vector_h\n",
        "\n",
        "g_norm = math.sqrt(1 + 1 + 1 + (8**2) )\n",
        "h_norm = math.sqrt((3**2) + (3**2) + (3**2) + (3**2) )\n",
        "\n",
        "if g_norm > h_norm:\n",
        "  print(\"Vector g \", g_norm , \"is longer than vector h of\" , h_norm )\n",
        "\n",
        "elif h_norm > g_norm:\n",
        "      print (\"Vector h \", h_norm , \"is longer than the length of vector g\", g_norm)\n",
        "\n",
        "elif g_norm == h_norm:\n",
        "  print(\"These norms are equal.\")\n",
        "    "
      ],
      "execution_count": 0,
      "outputs": [
        {
          "output_type": "stream",
          "text": [
            "Vector g  8.18535277187245 is longer than vector h of 6.0\n"
          ],
          "name": "stdout"
        }
      ]
    },
    {
      "cell_type": "markdown",
      "metadata": {
        "id": "njrWIMS-ZAoH",
        "colab_type": "text"
      },
      "source": [
        "# Part 2 - Matrices"
      ]
    },
    {
      "cell_type": "markdown",
      "metadata": {
        "id": "GjkcAVIOmOnn",
        "colab_type": "text"
      },
      "source": [
        "## 2.1 What are the dimensions of the following matrices? Which of the following can be multiplied together? See if you can find all of the different legal combinations.\n",
        "\\begin{align}\n",
        "A = \\begin{bmatrix}\n",
        "1 & 2 \\\\\n",
        "3 & 4 \\\\\n",
        "5 & 6\n",
        "\\end{bmatrix}\n",
        "\\qquad\n",
        "B = \\begin{bmatrix}\n",
        "2 & 4 & 6 \\\\\n",
        "\\end{bmatrix}\n",
        "\\qquad\n",
        "C = \\begin{bmatrix}\n",
        "9 & 6 & 3 \\\\\n",
        "4 & 7 & 11\n",
        "\\end{bmatrix}\n",
        "\\qquad\n",
        "D = \\begin{bmatrix}\n",
        "1 & 0 & 0 \\\\\n",
        "0 & 1 & 0 \\\\\n",
        "0 & 0 & 1\n",
        "\\end{bmatrix}\n",
        "\\qquad\n",
        "E = \\begin{bmatrix}\n",
        "1 & 3 \\\\\n",
        "5 & 7\n",
        "\\end{bmatrix}\n",
        "\\end{align}"
      ]
    },
    {
      "cell_type": "markdown",
      "metadata": {
        "id": "U9rabZamudXM",
        "colab_type": "text"
      },
      "source": [
        "The dimension of Matrix A is 3 x 2. (B, C, D)\n",
        "\n",
        "The dimension of Matrix B is 1 x 3. ()\n",
        "\n",
        "The dimension of Matrix C is 2 x 3. (A, E)\n",
        "\n",
        "The dimension of Matrix D is 3 x 3. (B, C)\n",
        "\n",
        "The dimension of Matrix E is 2 x 2. (A)\n"
      ]
    },
    {
      "cell_type": "markdown",
      "metadata": {
        "id": "lMOlCoM3ncGa",
        "colab_type": "text"
      },
      "source": [
        "## 2.2 Find the following products: CD, AE, and BA. What are the dimensions of the resulting matrices? How does that relate to the dimensions of their factor matrices?"
      ]
    },
    {
      "cell_type": "code",
      "metadata": {
        "id": "zhKwiSItoE2F",
        "colab_type": "code",
        "colab": {}
      },
      "source": [
        "#Matrix mulitplication of CD\n",
        "# D is is an identity matrix so this is a good start!\n",
        "\n",
        "( (9*1) + (6*0) + (3*0))     ((9*0) + (6*1) + (3*0))   ((9*0) + (6*0) + (3*1))\n",
        "\n",
        "( (4*1) + (7*0) + (11*0))    ((4*0) + (7*1) + (11*0))  ((4*0) + (7*0) + (11*1)\n",
        "                                                        \n",
        "       #  9 6 3\n",
        "       #  4 6 11                                                \n",
        "\n",
        "#return to finish                                                        "
      ],
      "execution_count": 0,
      "outputs": []
    },
    {
      "cell_type": "markdown",
      "metadata": {
        "id": "sW6cPUzkykYw",
        "colab_type": "text"
      },
      "source": [
        "The dimension of CD is 2 x 3\n",
        "\n",
        "The dimension of AE is\n",
        "\n",
        "The dimension of BA is \n",
        "\n",
        "The resulting matrices have the number of rows of the second matrix's columns, and the the number of columns of the first matrix's rows. "
      ]
    },
    {
      "cell_type": "markdown",
      "metadata": {
        "id": "p2jmaGLgoFPN",
        "colab_type": "text"
      },
      "source": [
        "## 2.3  Find $F^{T}$. How are the numbers along the main diagonal (top left to bottom right) of the original matrix and its transpose related? What are the dimensions of $F$? What are the dimensions of $F^{T}$?\n",
        "\n",
        "\\begin{align}\n",
        "F = \n",
        "\\begin{bmatrix}\n",
        "20 & 19 & 18 & 17 \\\\\n",
        "16 & 15 & 14 & 13 \\\\\n",
        "12 & 11 & 10 & 9 \\\\\n",
        "8 & 7 & 6 & 5 \\\\\n",
        "4 & 3 & 2 & 1\n",
        "\\end{bmatrix}\n",
        "\\end{align}"
      ]
    },
    {
      "cell_type": "markdown",
      "metadata": {
        "id": "Z6SqiXPn1knZ",
        "colab_type": "text"
      },
      "source": [
        "The dimension of F is 5 x 4.\n",
        "\n",
        "The dimension of $F^{T}$ is 4 x 5.\n",
        "\n",
        "The main diagonal of the matrix (20, 5) from the top left to bottom right, stays the same. "
      ]
    },
    {
      "cell_type": "code",
      "metadata": {
        "id": "Wl3ElwgLqaAn",
        "colab_type": "code",
        "colab": {}
      },
      "source": [
        ""
      ],
      "execution_count": 0,
      "outputs": []
    },
    {
      "cell_type": "markdown",
      "metadata": {
        "id": "13ik2LEEZLHn",
        "colab_type": "text"
      },
      "source": [
        "# Part 3 - Square Matrices"
      ]
    },
    {
      "cell_type": "markdown",
      "metadata": {
        "id": "sDBAPUwfp7f7",
        "colab_type": "text"
      },
      "source": [
        "## 3.1 Find $IG$ (be sure to show your work) 😃\n",
        "\n",
        "\\begin{align}\n",
        "G= \n",
        "\\begin{bmatrix}\n",
        "12 & 11 \\\\\n",
        "7 & 10 \n",
        "\\end{bmatrix}\n",
        "\\end{align}"
      ]
    },
    {
      "cell_type": "markdown",
      "metadata": {
        "id": "LilTJ3Z75X3l",
        "colab_type": "text"
      },
      "source": [
        "\n",
        "\\begin{align}\n",
        "I= \n",
        "\\begin{bmatrix}\n",
        "1 & 0 \\\\\n",
        "0 & 1 \n",
        "\\end{bmatrix}\n",
        "\\end{align}\n",
        "\n",
        "result is\n",
        "\n",
        "\n",
        "\\begin{align}\n",
        "G= \n",
        "\\begin{bmatrix}\n",
        "12 & 7 \\\\\n",
        "11 & 10 \n",
        "\\end{bmatrix}\n",
        "\\end{align}"
      ]
    },
    {
      "cell_type": "code",
      "metadata": {
        "id": "ZnqvZBOYqar3",
        "colab_type": "code",
        "colab": {
          "base_uri": "https://localhost:8080/",
          "height": 129
        },
        "outputId": "390be502-2161-4563-f381-12470b254af1"
      },
      "source": [
        "#return to show work\n",
        "\n",
        "G = np.array([[2, 11], [7, 10]])\n",
        "GI = np.identity(3, G)\n",
        "print("
      ],
      "execution_count": 43,
      "outputs": [
        {
          "output_type": "error",
          "ename": "SyntaxError",
          "evalue": "ignored",
          "traceback": [
            "\u001b[0;36m  File \u001b[0;32m\"<ipython-input-43-308a73f211d1>\"\u001b[0;36m, line \u001b[0;32m4\u001b[0m\n\u001b[0;31m    print(\u001b[0m\n\u001b[0m          ^\u001b[0m\n\u001b[0;31mSyntaxError\u001b[0m\u001b[0;31m:\u001b[0m unexpected EOF while parsing\n"
          ]
        }
      ]
    },
    {
      "cell_type": "markdown",
      "metadata": {
        "id": "DZ_0XTDQqpMT",
        "colab_type": "text"
      },
      "source": [
        "## 3.2 Find $|H|$ and then find $|J|$.\n",
        "\n",
        "\\begin{align}\n",
        "H= \n",
        "\\begin{bmatrix}\n",
        "12 & 11 \\\\\n",
        "7 & 10 \n",
        "\\end{bmatrix}\n",
        "\\qquad\n",
        "J= \n",
        "\\begin{bmatrix}\n",
        "0 & 1 & 2 \\\\\n",
        "7 & 10 & 4 \\\\\n",
        "3 & 2 & 0\n",
        "\\end{bmatrix}\n",
        "\\end{align}\n"
      ]
    },
    {
      "cell_type": "code",
      "metadata": {
        "id": "5QShhoXyrjDS",
        "colab_type": "code",
        "outputId": "fc370b5e-7b1f-47d4-a849-a96c78764bac",
        "colab": {
          "base_uri": "https://localhost:8080/",
          "height": 68
        }
      },
      "source": [
        "#to calculate determinant: ad - bc\n",
        "det_H = (12*10) - (7*11)\n",
        "print (det_H)\n",
        "\n",
        "#Return for J\n",
        "# recursively find determinants of smaller matrices\n",
        "\n",
        "\n",
        "H = np.array([[[12, 11], (7, 10)]])\n",
        "J = np.array([[[0, 1, 2], [7, 10, 4], [3, 2, 0]]])\n",
        "\n",
        "det_H_np = np.linalg.det(H)\n",
        "print (\"Hand calculated determinant is\", det_H, \"and NumPy determinant is\", det_H_np)\n",
        "\n",
        "det_J_np = np.linalg.det(J)\n",
        "print(\"Numpy determinant of J is\", det_J_np)"
      ],
      "execution_count": 55,
      "outputs": [
        {
          "output_type": "stream",
          "text": [
            "43\n",
            "Hand calculated determinant is 43 and NumPy determinant is [43.]\n",
            "Numpy determinant of J is [-20.]\n"
          ],
          "name": "stdout"
        }
      ]
    },
    {
      "cell_type": "markdown",
      "metadata": {
        "id": "2gZl1CFwrXSH",
        "colab_type": "text"
      },
      "source": [
        "## 3.3 Find $H^{-1}$ and then find $J^{-1}$"
      ]
    },
    {
      "cell_type": "code",
      "metadata": {
        "id": "nyX6De2-rio1",
        "colab_type": "code",
        "colab": {}
      },
      "source": [
        ""
      ],
      "execution_count": 0,
      "outputs": []
    },
    {
      "cell_type": "code",
      "metadata": {
        "id": "6X9pOJW27_Df",
        "colab_type": "code",
        "outputId": "98cbf9ee-b5c5-448a-b61c-791dcde0e08b",
        "colab": {
          "base_uri": "https://localhost:8080/",
          "height": 119
        }
      },
      "source": [
        "#the inverse is the reciprocal of the determinant\n",
        "###########But treating it as a number\n",
        "H_inv = 1 / 43\n",
        "print(H_inv)\n",
        " \n",
        "\n",
        "H_inv_np = np.linalg.inv(H)\n",
        "print (H_inv, H_inv_np)\n",
        "##Why I am I getting so many numbers here?\n",
        "##Because when I input an array, an array is returned.\n",
        "##An inverse can take the form of a numeral or an array. \n",
        "\n",
        "J_inv_np = np.linalg.inv(J)\n",
        "print(\"Inverse of J is \", J)"
      ],
      "execution_count": 57,
      "outputs": [
        {
          "output_type": "stream",
          "text": [
            "0.023255813953488372\n",
            "0.023255813953488372 [[[ 0.23255814 -0.25581395]\n",
            "  [-0.1627907   0.27906977]]]\n",
            "Inverse of J is  [[[ 0  1  2]\n",
            "  [ 7 10  4]\n",
            "  [ 3  2  0]]]\n"
          ],
          "name": "stdout"
        }
      ]
    },
    {
      "cell_type": "markdown",
      "metadata": {
        "id": "Vvd4Pe86rjhW",
        "colab_type": "text"
      },
      "source": [
        "## 3.4 Find $HH^{-1}$ and then find $J^{-1}J$. Is $HH^{-1} == J^{-1}J$? Why or Why not?"
      ]
    },
    {
      "cell_type": "markdown",
      "metadata": {
        "id": "H67wea518YHf",
        "colab_type": "text"
      },
      "source": [
        "#"
      ]
    },
    {
      "cell_type": "code",
      "metadata": {
        "id": "VWnbg1Emc3iF",
        "colab_type": "code",
        "colab": {}
      },
      "source": [
        "#copied from Stephanie\n",
        "hh1 = np.matmul(h, np.linalg.inv(h))\n"
      ],
      "execution_count": 0,
      "outputs": []
    },
    {
      "cell_type": "markdown",
      "metadata": {
        "id": "V0iTO4McYjtk",
        "colab_type": "text"
      },
      "source": [
        "# Stretch Goals: \n",
        "\n",
        "A reminder that these challenges are optional. If you finish your work quickly we welcome you to work on them. If there are other activities that you feel like will help your understanding of the above topics more, feel free to work on that. Topics from the Stretch Goals sections will never end up on Sprint Challenges. You don't have to do these in order, you don't have to do all of them. \n",
        "\n",
        "- Write a function that can calculate the dot product of any two vectors of equal length that are passed to it.\n",
        "- Write a function that can calculate the norm of any vector\n",
        "- Prove to yourself again that the vectors in 1.9 are orthogonal by graphing them. \n",
        "- Research how to plot a 3d graph with animations so that you can make the graph rotate (this will be easier in a local notebook than in google colab)\n",
        "- Create and plot a matrix on a 2d graph.\n",
        "- Create and plot a matrix on a 3d graph.\n",
        "- Plot two vectors that are not collinear on a 2d graph. Calculate the determinant of the 2x2 matrix that these vectors form. How does this determinant relate to the graphical interpretation of the vectors?\n",
        "\n"
      ]
    }
  ]
}